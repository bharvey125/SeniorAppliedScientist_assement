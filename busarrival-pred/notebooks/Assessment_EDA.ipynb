{
 "cells": [
  {
   "cell_type": "code",
   "execution_count": null,
   "id": "5fbe81b2-137c-4a5c-9386-f4a98b0ac406",
   "metadata": {},
   "outputs": [],
   "source": [
    "import pandas as pd\n",
    "import polars as pl\n",
    "import tqdm\n",
    "import numpy as np\n",
    "from scipy.spatial.distance import cdist\n",
    "import os\n",
    "import plotly.express as px\n",
    "import gc\n",
    "\n",
    "import seaborn as sns\n",
    "import matplotlib.pyplot as plt\n",
    "sns.set(rc = {'figure.figsize':(15,8)})\n",
    "\n",
    "import warnings\n",
    "warnings.filterwarnings('ignore')"
   ]
  },
  {
   "cell_type": "markdown",
   "id": "1f220991-faf5-431e-b77e-c31f06d09fe6",
   "metadata": {},
   "source": [
    "# Questions to answer\n",
    "\n",
    "1. Trend in delay avg daily delay times across months\n",
    "2. Trend in avg delay times across days of week, Overall, by area,  by top ten routes\n",
    "3. Trend in avg delay times by time of day , Overall, by area,  by top ten routes\n",
    "4. weather effect\n",
    "5. traffic effect????\n",
    "6. area effect\n",
    "7. Efficiency by area (maybe) see paper"
   ]
  },
  {
   "cell_type": "markdown",
   "id": "6e735738-4d60-492c-a5a5-491a7279ba57",
   "metadata": {},
   "source": [
    "# 1. Introduction"
   ]
  },
  {
   "cell_type": "code",
   "execution_count": null,
   "id": "e7bbe046-8bc5-47cc-88e5-31a73e554af2",
   "metadata": {},
   "outputs": [],
   "source": [
    "fields =['Stop Number'\n",
    "# ,'Route Number'\t\n",
    ",'Route Name'\t\n",
    ",'Route Destination'\t\n",
    ",'Day Type'\t\n",
    ",'Scheduled Time'\n",
    ",'Deviation'\t\n",
    ",'date_key'\t\n",
    ",'windspeed'\t\n",
    ",'precip'\t\t\n",
    ",'preciptype'\t\t\t\t\t\n",
    ",'Total'\t\n",
    ",'id'\t\n",
    ",'name']\n",
    "\n",
    "dtype = {'Stop Number':pl.Int64\n",
    "# ,'Route Number':pl.Object\n",
    ",'Route Name':pl.Utf8\n",
    ",'Route Destination':pl.Utf8\n",
    ",'Day Type':pl.Utf8\t\n",
    ",'Scheduled Time':pl.Datetime\n",
    ",'Deviation':pl.Int64\n",
    ",'date_key':pl.Datetime\t\n",
    ",'windspeed':pl.Float64\n",
    ",'precip':pl.Float64\n",
    ",'preciptype':pl.Utf8\t\t\t\t\n",
    ",'Total':pl.Float64\n",
    ",'id':pl.Int64\n",
    ",'name':pl.Utf8 \n",
    "}"
   ]
  },
  {
   "cell_type": "code",
   "execution_count": null,
   "id": "cfd64a91-dfaf-4261-8c50-a204049dd59b",
   "metadata": {},
   "outputs": [],
   "source": [
    "# IMPORT DATA\n",
    "data_08 = pl.read_csv(r'D:\\Database\\on_time_data\\v2_on_time_performance_2023_08.csv',columns = fields)\n",
    "data_09 = pl.read_csv(r'D:\\Database\\on_time_data\\v2_on_time_performance_2023_09.csv',columns = fields)\n",
    "data_10 = pl.read_csv(r'D:\\Database\\on_time_data\\v2_on_time_performance_2023_10.csv',columns = fields)\n",
    "\n"
   ]
  },
  {
   "cell_type": "code",
   "execution_count": null,
   "id": "749ebcb8-1df0-41ae-8987-770cb5a54199",
   "metadata": {},
   "outputs": [],
   "source": [
    "data = data_08.vstack(data_09)\n",
    "data = data.vstack(data_10)"
   ]
  },
  {
   "cell_type": "code",
   "execution_count": null,
   "id": "0d4242f6-7586-4993-8c56-10fa6a94037e",
   "metadata": {},
   "outputs": [],
   "source": [
    "del data_08,data_09,data_10\n",
    "gc.collect()"
   ]
  },
  {
   "cell_type": "markdown",
   "id": "f654133b-5e5a-4fbc-af75-1368ccf20b3a",
   "metadata": {},
   "source": [
    "# 2. Data Description\n",
    "Assumption: Due to this only being an assessment, three months of data are used and only routes which are present and complete in all three months are included.\n",
    "\n",
    "For the explorator analysis we will use 3 months of bus performance data download from Winnipeg's open data portal. This data set was supplemented with open weather data, stationary traffic count stations, neighbourhood shape files. links to the data are listed below\n",
    "\n",
    "\n",
    "[Traffic Counts](https://data.winnipeg.ca/Transportation-Planning-Traffic-Management/Permanent-Count-Station-Traffic-Counts/46sc-6jrs/about_data)\n",
    "\n",
    "[Neighbourhood](https://data.winnipeg.ca/City-Planning/Neighbourhood/fen6-iygi)\n",
    "\n",
    "[Weather](https://www.visualcrossing.com/weather/weather-data-services/winnipeg/metric/last15days)\n",
    "\n",
    "The data is stored in monthly files which contains information on departure times from bus stops for individual busses operating in the city. The column of interest in this dataset is the deviations columns, it represents the delayed time in seconds at a given stop. With negative values representing departure times that are behind schedule and positive values represent ahead of schedule. For This analysis we are using 3 months of data which results in roughly 12 million observations by 13 columns."
   ]
  },
  {
   "cell_type": "code",
   "execution_count": null,
   "id": "3d07130f-320f-4715-8b96-ca002a064d6f",
   "metadata": {},
   "outputs": [],
   "source": [
    "print('Observations for August 2023 {}'.format(data_08.shape))\n",
    "print('Observations for September 2023 {}'.format(data_09.shape))\n",
    "print('Observations for October 2023 {}'.format(data_10.shape))\n",
    "print('Observations Total {}'.format(data.shape))\n"
   ]
  },
  {
   "cell_type": "markdown",
   "id": "32a65a63-b366-4dcb-8593-f643eed36d48",
   "metadata": {},
   "source": [
    "# 3. Exploratory Analysis"
   ]
  },
  {
   "cell_type": "code",
   "execution_count": null,
   "id": "aa7fd33f-a943-4684-990f-54e99fcf456e",
   "metadata": {},
   "outputs": [],
   "source": [
    "data.select(pl.selectors.by_dtype(pl.Float64, pl.Int64)).describe()"
   ]
  },
  {
   "cell_type": "markdown",
   "id": "dcf313ba-226e-4a98-b1dd-1e3e06912229",
   "metadata": {},
   "source": [
    "From the above data description we can see that there seems to be some outliers and erronious data in the deviation's columns. The min and max translate into a bus that is 5 hours late. This seems like an impossibility and should be investigated, but for the sake of this assessement outliers will be removed from the dataset."
   ]
  },
  {
   "cell_type": "code",
   "execution_count": null,
   "id": "75472555-6f76-4dc7-8c3f-6ddfc62b5108",
   "metadata": {},
   "outputs": [],
   "source": [
    "data = data.with_columns(\n",
    "    pl.col('date_key').str.to_datetime(\"%Y-%m-%d %H:%M:%S\")\n",
    ")"
   ]
  },
  {
   "cell_type": "code",
   "execution_count": null,
   "id": "fe110267-d5c2-44e9-b014-1ee66b5f6534",
   "metadata": {},
   "outputs": [],
   "source": [
    "data = data.with_columns(\n",
    "    pl.col('Day Type').map_elements(lambda x: 0 if x==\"Weekday\" else 1 ).alias('weekend')\n",
    ")"
   ]
  },
  {
   "cell_type": "code",
   "execution_count": null,
   "id": "bc431d50-837e-4a41-9fbd-c859b81cfa7e",
   "metadata": {},
   "outputs": [],
   "source": [
    "data = data.with_columns(\n",
    "    pl.col('date_key').dt.month().alias('month'),\n",
    "    pl.col('date_key').dt.day().alias('day'),\n",
    "    pl.col('date_key').dt.hour().alias('hour'),\n",
    "    pl.col('date_key').dt.weekday().alias('day_of_week')\n",
    ")"
   ]
  },
  {
   "cell_type": "markdown",
   "id": "c95f28fb-3227-45d8-9038-07c94e107a66",
   "metadata": {},
   "source": [
    "## 3.1 Trend of Avg Delay Times For The City of Winnipeg"
   ]
  },
  {
   "cell_type": "code",
   "execution_count": null,
   "id": "f446a339-ec3b-45f5-af25-2fe9c69f6ac4",
   "metadata": {},
   "outputs": [],
   "source": [
    "data.head()"
   ]
  },
  {
   "cell_type": "code",
   "execution_count": null,
   "id": "1fc3f43b-3d0a-4a53-b027-d55794b4cba2",
   "metadata": {},
   "outputs": [],
   "source": [
    "temp_data = data.group_by([pl.col('month'),pl.col('day')]).agg(pl.col('Deviation').mean()).sort(['month','day']).with_columns(\n",
    "    pl.date(pl.lit('2023'),pl.col('month'),pl.col('day')).alias('date')\n",
    ").drop(['month','day']).to_pandas()\n",
    "\n",
    "sns.lineplot(data=temp_data\n",
    "             ,x = 'date'\n",
    "             ,y = 'Deviation')\n",
    "x = range(0, temp_data.shape[0])\n",
    "z = np.polyfit(x, temp_data.Deviation, 1)\n",
    "p = np.poly1d(z)\n",
    "plt.plot(temp_data.date, p(x), c=\"b\", ls=\":\")\n",
    "\n",
    "del temp_data"
   ]
  },
  {
   "cell_type": "markdown",
   "id": "c65831d2-1565-426b-b384-0034b8ebdadd",
   "metadata": {},
   "source": [
    "### Observations\n",
    "- It should be reconized that this small sample size will ignore any yearly effects the weather and construction patterns have on the delay of busses, but from first inspection it looks like that the bus system is performing worse across the sample period. Average Delay times are getting worse for the City of Winnipeg.\n",
    "- The variability in the series is also increasing, this could be due to the worsning weather or a multitude of other factors. Weather will be investigated further.\n",
    " "
   ]
  },
  {
   "cell_type": "markdown",
   "id": "04a9e80d-b63f-4260-907e-685a90f37c74",
   "metadata": {},
   "source": [
    "# 3.1.1 Trend by Route Name - 10 Best and 10 Worst"
   ]
  },
  {
   "cell_type": "code",
   "execution_count": null,
   "id": "63558ae7-db0f-4790-97bb-6953dfcaf92f",
   "metadata": {},
   "outputs": [],
   "source": [
    "temp_data = data.group_by([pl.col('Route Name'),pl.col('month'),pl.col('day')]).agg(pl.col('Deviation').mean()).sort(['month','day']).with_columns(\n",
    "    pl.date(pl.lit('2023'),pl.col('month'),pl.col('day')).alias('date'))\n"
   ]
  },
  {
   "cell_type": "code",
   "execution_count": null,
   "id": "55d998d7-17aa-448b-8677-04f30038d38e",
   "metadata": {},
   "outputs": [],
   "source": [
    "worst_list = temp_data.group_by('Route Name')\\\n",
    "    .agg(pl.col('Deviation').mean())\\\n",
    "    .sort('Deviation').with_row_count()\\\n",
    "    .filter(pl.col('row_nr')<=10)\\\n",
    "    .select('Route Name')\n",
    "\n",
    "worst_temp = temp_data.filter(pl.col('Route Name').is_in(list(worst_list.to_pandas().values.reshape(-1))))\n",
    "# fig = px.line(worst_temp, x='date',y='Deviation', color = 'Route Name')\n",
    "# fig.show()\n",
    "\n",
    "sns.lineplot(data=worst_temp\n",
    "             ,x = 'date'\n",
    "             ,y = 'Deviation',hue='Route Name')\n",
    "\n",
    "del worst_list,worst_temp"
   ]
  },
  {
   "cell_type": "code",
   "execution_count": null,
   "id": "a0ded08c-16e1-4c0e-918c-77f9c97ca5c4",
   "metadata": {},
   "outputs": [],
   "source": [
    "best_list = temp_data.group_by('Route Name')\\\n",
    "    .agg(pl.col('Deviation').mean())\\\n",
    "    .sort('Deviation', descending=True).with_row_count()\\\n",
    "    .filter(pl.col('row_nr')<=10)\\\n",
    "    .select('Route Name')\n",
    "\n",
    "best_temp = temp_data.filter(pl.col('Route Name').is_in(list(best_list.to_pandas().values.reshape(-1))))\n",
    "\n",
    "sns.lineplot(data=best_temp \n",
    "             ,x = 'date'\n",
    "             ,y = 'Deviation',hue='Route Name')\n",
    "\n",
    "del best_temp,best_list"
   ]
  },
  {
   "cell_type": "code",
   "execution_count": null,
   "id": "1c85de2e-af34-4c61-a8c0-1c3958426227",
   "metadata": {},
   "outputs": [],
   "source": [
    "del temp_data"
   ]
  },
  {
   "cell_type": "markdown",
   "id": "72ca4e0a-8cb1-4d0b-880e-d59b57ccde0a",
   "metadata": {},
   "source": [
    "### Observations for 10 best and worst Routes\n",
    "\n",
    "After zooming in on the data to ignore the clear outlier on Broadway-william, the performance for the 10 best routes on average are remaining relatively flat. The driving force in the fall off in performance seems to be coming from a proportion of the data. It might be worth examing which routes are driving the fall off in performance. Do to the time limitation of this assessment we will focus on specific area's and weather for driving performance.\n",
    "\n",
    "Future work could examine what purportion of routes have a decreasing performance, this would help focus analysis on routes that require attention."
   ]
  },
  {
   "cell_type": "markdown",
   "id": "75e99c20-1066-4553-9560-4da83190c210",
   "metadata": {},
   "source": [
    "# 3.1.2 Trend by Area of the city"
   ]
  },
  {
   "cell_type": "code",
   "execution_count": null,
   "id": "852491e2-cf1f-4053-a51f-934833f10a64",
   "metadata": {},
   "outputs": [],
   "source": [
    "temp_data = data.group_by([pl.col('name'),pl.col('month'),pl.col('day')]).agg(pl.col('Deviation').mean()).sort(['month','day']).with_columns(\n",
    "    pl.date(pl.lit('2023'),pl.col('month'),pl.col('day')).alias('date'))\n"
   ]
  },
  {
   "cell_type": "code",
   "execution_count": null,
   "id": "ac3e9e28-35ec-4630-a46d-42e44cc731c1",
   "metadata": {},
   "outputs": [],
   "source": [
    "best_list = temp_data.group_by('name')\\\n",
    "    .agg(pl.col('Deviation').mean())\\\n",
    "    .sort('Deviation', descending=True).with_row_count()\\\n",
    "    .filter(pl.col('row_nr')<=10)\\\n",
    "    .select('name')\n",
    "\n",
    "best_temp = temp_data.filter(pl.col('name').is_in(list(best_list.to_pandas().values.reshape(-1))))\n",
    "\n",
    "sns.lineplot(data=best_temp \n",
    "             ,x = 'date'\n",
    "             ,y = 'Deviation',hue='name')\n",
    "\n",
    "del best_temp,best_list"
   ]
  },
  {
   "cell_type": "code",
   "execution_count": null,
   "id": "839c27ae-4ac2-4d00-a921-6758f8b539af",
   "metadata": {},
   "outputs": [],
   "source": [
    "worst_list = temp_data.group_by('name')\\\n",
    "    .agg(pl.col('Deviation').mean())\\\n",
    "    .sort('Deviation', descending=False).with_row_count()\\\n",
    "    .filter(pl.col('row_nr')<=10)\\\n",
    "    .select('name')\n",
    "\n",
    "worst_temp = temp_data.filter(pl.col('name').is_in(list(worst_list.to_pandas().values.reshape(-1))))\n",
    "\n",
    "sns.lineplot(data=worst_temp \n",
    "             ,x = 'date'\n",
    "             ,y = 'Deviation',hue='name')\n",
    "\n",
    "del worst_temp,worst_list"
   ]
  },
  {
   "cell_type": "markdown",
   "id": "4781078e-57dd-4dfc-adfa-e39a687b1456",
   "metadata": {},
   "source": [
    "### Observations of 10 best and worst performing neighbourhoods\n",
    "\n",
    "Again the pattern repeats, the best performing areas are relatively flat and the worst are decreasing in performance. Interestingly there seems to be stronger seasonality pattern in the worst performing neighbourhoods suggesting there is a temperal component to the performance of these neighbourhoods."
   ]
  },
  {
   "cell_type": "markdown",
   "id": "914bba70-ae55-4993-9a02-a53b07970b1d",
   "metadata": {},
   "source": [
    "## 3.2 Trend of Avg Delay Times by Day of Week\n",
    "\n",
    "Next we will examine to see if there are specific days of the week that on average perform worse then the others\n"
   ]
  },
  {
   "cell_type": "markdown",
   "id": "a4c0bc01-8fb4-4c38-bcb0-eca3615aa7bd",
   "metadata": {},
   "source": [
    "## 3.2.1 Box whisker plot by day for the Interquartile range for all routes"
   ]
  },
  {
   "cell_type": "code",
   "execution_count": null,
   "id": "80360687-37f1-4fae-88e9-dddb57290b86",
   "metadata": {},
   "outputs": [],
   "source": [
    "# Due to size of data the IQR was plotted to check for seasonality\n",
    "df = data.filter((pl.col('Deviation') > -207) & (pl.col('Deviation') <28)).to_pandas()\n",
    "# fig = px.violin(data, y=\"Deviation\", x=\"day_of_week\", box=True, points=\"all\",\n",
    "#           hover_data=data.columns)\n",
    "fig = px.box(df,x=\"day_of_week\" ,y=\"Deviation\")\n",
    "fig.show()\n",
    "del df\n",
    "# sns.boxplot(data=data.filter((pl.col('Deviation') > -207) & (pl.col('Deviation') <28)).to_pandas(), x=\"day_of_week\" ,y=\"Deviation\")"
   ]
  },
  {
   "cell_type": "code",
   "execution_count": null,
   "id": "c226df81-b8b1-476c-916c-27c9fd8cd37b",
   "metadata": {},
   "outputs": [],
   "source": [
    "\n",
    "df = data.group_by([pl.col('name'),pl.col('day_of_week')]).agg(pl.col('Deviation').mean()).sort('name','day_of_week')\n",
    "\n",
    "worst_avg = df.group_by('name').agg(pl.col('Deviation').mean()).sort('Deviation',descending=False).with_row_count().filter(pl.col('row_nr')<50).select('name')\n",
    "\n",
    "\n",
    "df2 = df.filter(pl.col('name').is_in(list(worst_avg.to_pandas().values.reshape(-1)))).to_pandas()\n",
    "\n",
    "new_df = df2.pivot(index='name', columns='day_of_week')['Deviation']\n",
    "sns.heatmap(new_df)\n",
    "# fig = px.imshow(new_df, x=new_df.columns, y=new_df.index)\n",
    "# fig.update_layout(width=1000,height=2000)\n",
    "# fig.show()\n",
    "del df2,df,worst_avg\n",
    "gc.collect()"
   ]
  },
  {
   "cell_type": "markdown",
   "id": "abfbd06c-b80e-4d62-9bf7-33ea9078d2f4",
   "metadata": {},
   "source": [
    "## 3.2.2 Bar chart of counts for extreme events\n",
    "- We defined an extreme event by taking 1.5*IQR - 25%quantile\n",
    "- in this case the cut off was roughly -550"
   ]
  },
  {
   "cell_type": "code",
   "execution_count": null,
   "id": "ef416fd5-6434-4b7e-aeb9-5a096ec56c80",
   "metadata": {},
   "outputs": [],
   "source": [
    "#extreme value occurence\n",
    "df = data.filter((pl.col('Deviation') < -559.5))\n",
    "df = df.group_by('day_of_week').count().sort('day_of_week')\n",
    "\n",
    "sns.barplot(x='day_of_week', y='count', data = df.to_pandas())\n",
    "# fig = px.bar(df, x='day_of_week', y='count')\n",
    "# fig.show()\n",
    "del df\n"
   ]
  },
  {
   "cell_type": "code",
   "execution_count": null,
   "id": "db2945ee-2cca-4170-8fe3-ef2ac7eadd10",
   "metadata": {},
   "outputs": [],
   "source": [
    "df = data.filter((pl.col('Deviation') < -559.5))\n",
    "df = df.group_by([pl.col('name'),pl.col('day_of_week')]).count().sort('name','day_of_week')\n",
    "worst_count = df.group_by('name').agg(pl.col('count').mean()).sort('count',descending=False).with_row_count().filter(pl.col('row_nr')<50).select('name')\n"
   ]
  },
  {
   "cell_type": "markdown",
   "id": "ee0e2a37-6440-4e7f-a400-090e3d33ce1b",
   "metadata": {},
   "source": [
    "## 3.2.3 Heatmap of extreme events by neighbourhood"
   ]
  },
  {
   "cell_type": "code",
   "execution_count": null,
   "id": "5388f5e0-6279-45e6-909b-f7b759cd80c9",
   "metadata": {},
   "outputs": [],
   "source": [
    "\n",
    "df2 = df.filter(pl.col('name').is_in(list(worst_count.to_pandas().values.reshape(-1)))).to_pandas()\n",
    "new_df = df2.pivot(index='name', columns='day_of_week')['count']\n",
    "\n",
    "sns.heatmap(new_df)\n",
    "del df2,df,worst_count\n",
    "gc.collect()"
   ]
  },
  {
   "cell_type": "markdown",
   "id": "6747e1c1-3f4f-4eaa-9c66-1619ac0365c1",
   "metadata": {},
   "source": [
    "### Observations by Day of week\n",
    "\n",
    "- To examine the seasonal effect of the day of the week has on deviation times the data was split in two sets. First we can see that there is no daily effect on the interquartile range of data. Deviations that are typical don't seem to be correlated temporally to the day of the week.\n",
    "- If we examine the extreme negative values a pattern starts to show up. Extreme values were defined using the interquartile method.\n",
    "- It's easy to see from the above bar chart that more extreme deviations are likely to occure during the week. Which makes sense due to work traffic.\n",
    "- From the heat chart the same pattern shows up, except it's broken out by neighbourhood. The worst neighbourhood for extreme deviations is South Portage."
   ]
  },
  {
   "cell_type": "markdown",
   "id": "b1c3d628-6be4-4338-9a59-2a9a617d2209",
   "metadata": {},
   "source": [
    "# 3.3 Delay times by time of day"
   ]
  },
  {
   "cell_type": "code",
   "execution_count": null,
   "id": "34a191fa-e70f-4692-856b-d0883393e6a6",
   "metadata": {},
   "outputs": [],
   "source": [
    "temp_data = data.group_by('hour').agg(pl.col('Deviation').mean()).sort('hour')\n",
    "sns.barplot( x='hour', y='Deviation', data = temp_data.to_pandas(),color='b')\n",
    "\n",
    "del temp_data\n",
    "gc.collect()"
   ]
  },
  {
   "cell_type": "code",
   "execution_count": null,
   "id": "a55cf5b5-c98a-47c8-8a78-fa15019fc317",
   "metadata": {},
   "outputs": [],
   "source": [
    "temp_data = data.group_by([pl.col('name'),pl.col('hour')]).agg(pl.col('Deviation').mean()).sort('name','hour')\n",
    "worst_avg = temp_data.group_by('name').agg(pl.col('Deviation').mean()).sort('Deviation',descending=True).with_row_count().filter(pl.col('row_nr')<50).select('name')\n",
    "\n",
    "df2 = temp_data.filter(pl.col('name').is_in(list(worst_avg.to_pandas().values.reshape(-1)))).to_pandas()\n",
    "new_df = df2.pivot(index='name', columns='hour')['Deviation'].fillna(0)\n"
   ]
  },
  {
   "cell_type": "code",
   "execution_count": null,
   "id": "c00ea05c-5cb4-4893-8f9e-07fd2aff305d",
   "metadata": {},
   "outputs": [],
   "source": [
    "sns.heatmap(new_df)\n",
    "del temp_data,worst_avg,df2,new_df\n",
    "gc.collect()"
   ]
  },
  {
   "cell_type": "code",
   "execution_count": null,
   "id": "b572dd7a-197a-4d6b-bf73-88fe70be8fab",
   "metadata": {},
   "outputs": [],
   "source": [
    "#fitlering data for extreme events\n",
    "df = data.filter((pl.col('Deviation') < -559.5))\n",
    "df = df.group_by([pl.col('name'),pl.col('hour')]).count().sort('name','hour')\n",
    "worst_count = df.group_by('name').agg(pl.col('count').mean()).sort('count',descending=True).with_row_count().filter(pl.col('row_nr')<50).select('name')\n",
    "\n",
    "\n",
    "df2 = df.filter(pl.col('name').is_in(list(worst_count.to_pandas().values.reshape(-1)))).to_pandas()\n",
    "new_df = df2.pivot(index='name', columns='hour')['count'].fillna(0)\n",
    "\n",
    "sns.heatmap(new_df)\n",
    "del df2,df,worst_count\n",
    "gc.collect()"
   ]
  },
  {
   "cell_type": "markdown",
   "id": "42aef8f0-4aed-471b-9286-822a7f838214",
   "metadata": {},
   "source": [
    "### Observations for time of day\n",
    "\n",
    "- the problems time of day are 17:00 and 8:00\n",
    "- Avg performance is the lowestest at 17:00\n",
    "- the count of extreme events also peaks at 17:00\n",
    "- interestlying there are different neighbourhoods present in the count of extreme events. Suggesting that they perform better on avg the the worst 50, but are more prone to extreme delays."
   ]
  },
  {
   "cell_type": "markdown",
   "id": "54053f9f-692c-4268-841b-0dd2c99b6b0d",
   "metadata": {},
   "source": [
    "## 3.3 Trend of Deviations by weather"
   ]
  },
  {
   "cell_type": "code",
   "execution_count": null,
   "id": "4d541e83-ea74-4009-95e8-54d72ea6cb77",
   "metadata": {},
   "outputs": [],
   "source": [
    "data.head()"
   ]
  },
  {
   "cell_type": "code",
   "execution_count": null,
   "id": "5c6c6702-0b92-4ce5-a4b4-dd9076a7581e",
   "metadata": {},
   "outputs": [],
   "source": [
    "data = data.with_columns(\n",
    "    (pl.col('preciptype')).fill_null('No_precip'),\n",
    "    pl.col('preciptype').map_elements(lambda x: 0 if x==\"No_precip\" else 1).alias('precip_ind')\n",
    ")"
   ]
  },
  {
   "cell_type": "code",
   "execution_count": null,
   "id": "e61dc731-4a74-477d-88fd-07e677cbbb70",
   "metadata": {},
   "outputs": [],
   "source": [
    "data.group_by('precip_ind').agg(mean_dev = pl.col('Deviation').mean(),\n",
    "                                median_dev = pl.col('Deviation').median(),\n",
    "                                std_dev = pl.col('Deviation').std())"
   ]
  },
  {
   "cell_type": "code",
   "execution_count": null,
   "id": "8f370c68-c57b-4678-b3ad-34a3709f9aa5",
   "metadata": {},
   "outputs": [],
   "source": [
    "df = data.filter((pl.col('Deviation') < -559.5))\n",
    "df = df.group_by([pl.col('precip_ind')]).agg(c_rows = pl.col('precip_ind').count(),\n",
    "                                             mean_dev = pl.col('Deviation').mean())\n",
    "\n",
    "# worst_count = df.group_by('name').agg(pl.col('count').mean()).sort('count',descending=True).with_row_count().filter(pl.col('row_nr')<50).select('name')"
   ]
  },
  {
   "cell_type": "markdown",
   "id": "dfdfde22-fa36-4258-83dd-358c6a214c19",
   "metadata": {},
   "source": [
    "### Observation for Weather Impact\n",
    "\n",
    "From this simple analysis there only seems to be a minor impact to bus performance, reducing the average deviation from -139 to -169 for all areas"
   ]
  },
  {
   "cell_type": "markdown",
   "id": "50ca251c-3dd8-4f16-9ded-fd754774a021",
   "metadata": {},
   "source": [
    "# 4. Conclusion\n",
    "\n",
    "Based on the above analysis we can draw a couple of conclusion based on the limited sample we drew. It seems that the city of Winnipeg transit system is getting worse. It is unclear whether this is a true effect or a typical seasonal effect that happens every year. In order to answer that a larger sample would have to be taken spanning multiple years. \n",
    "\n",
    "The major drivers based on this analysis are:\n",
    "- Time of day, which acts as a proxy for traffic in the city. With 5pm being the worst time across all areas.\n",
    "- Day of week\n",
    "- Neighbourhood\n",
    "\n",
    "There seems to be a subset of neighbourhoods that are driving the reduction in performance across this time frame. The top 10 neighbourhoods performance remained relatively flat across the period, whereas the worste 10 had a substantial drop. Although we can't draw major conclusions from this it suggests there are neighbourhoods outperforming others and a closer analysis should be done to identify the key driving differences.\n",
    "\n",
    "# 5. Next steps\n",
    "\n",
    "Further work should be done into identifying a good source of traffic data. As this seems to be the major factor. We should also attemp to correlate active construction projects with bus routes. A another major area that could yield active identifying links in the bus data, if the bus infront of the current bus is delayed the current bus will most likely be delayed as well. These issue are pretty subtaintial and should be over come before a serious effort at modeling this problem takes place, but for the sake of this assessment a toy model will be built using a paired down version of the data set. "
   ]
  },
  {
   "cell_type": "code",
   "execution_count": null,
   "id": "f3995c2f-03a6-4129-9f21-c36df6dd1de2",
   "metadata": {},
   "outputs": [],
   "source": []
  }
 ],
 "metadata": {
  "kernelspec": {
   "display_name": "Python 3 (ipykernel)",
   "language": "python",
   "name": "python3"
  },
  "language_info": {
   "codemirror_mode": {
    "name": "ipython",
    "version": 3
   },
   "file_extension": ".py",
   "mimetype": "text/x-python",
   "name": "python",
   "nbconvert_exporter": "python",
   "pygments_lexer": "ipython3",
   "version": "3.10.13"
  }
 },
 "nbformat": 4,
 "nbformat_minor": 5
}
